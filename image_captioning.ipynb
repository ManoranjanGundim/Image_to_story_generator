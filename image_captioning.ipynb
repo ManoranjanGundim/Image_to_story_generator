{
 "cells": [
  {
   "cell_type": "code",
   "execution_count": 2,
   "metadata": {
    "ExecuteTime": {
     "end_time": "2020-08-27T06:47:23.243655Z",
     "start_time": "2020-08-27T06:47:12.710619Z"
    },
    "colab": {},
    "colab_type": "code",
    "id": "U8l4RJ0XRPEm"
   },
   "outputs": [
    {
     "name": "stdout",
     "output_type": "stream",
     "text": [
      "Num GPUs Available:  1\n",
      "[PhysicalDevice(name='/physical_device:GPU:0', device_type='GPU')]\n",
      "2.3.0\n"
     ]
    }
   ],
   "source": [
    "import tensorflow as tf\n",
    "print(\"Num GPUs Available: \", len(tf.config.experimental.list_physical_devices('GPU')))\n",
    "# tf.debugging.set_log_device_placement(True)\n",
    "print(tf.config.experimental.list_physical_devices('GPU'))\n",
    "print(tf.__version__)\n",
    "\n",
    "# You'll generate plots of attention in order to see which parts of an image\n",
    "# our model focuses on during captioning\n",
    "import matplotlib.pyplot as plt\n",
    "\n",
    "# Scikit-learn includes many helpful utilities\n",
    "from sklearn.model_selection import train_test_split\n",
    "from sklearn.utils import shuffle\n",
    "\n",
    "import re\n",
    "import numpy as np\n",
    "import os\n",
    "import time\n",
    "import json\n",
    "from glob import glob\n",
    "from PIL import Image\n",
    "import pickle"
   ]
  },
  {
   "cell_type": "markdown",
   "metadata": {
    "colab_type": "text",
    "id": "b6qbGw8MRPE5"
   },
   "source": [
    "## Download and prepare the MS-COCO dataset\n",
    "\n",
    "You will use the [MS-COCO dataset](http://cocodataset.org/#home) to train our model. The dataset contains over 82,000 images, each of which has at least 5 different caption annotations. The code below downloads and extracts the dataset automatically.\n",
    "\n",
    "**Caution: large download ahead**. You'll use the training set, which is a 13GB file."
   ]
  },
  {
   "cell_type": "code",
   "execution_count": 3,
   "metadata": {
    "ExecuteTime": {
     "end_time": "2020-08-27T08:20:47.204182Z",
     "start_time": "2020-08-27T07:42:36.720443Z"
    },
    "colab": {},
    "colab_type": "code",
    "deletable": false,
    "editable": false,
    "id": "krQuPYTtRPE7",
    "run_control": {
     "frozen": true
    }
   },
   "outputs": [],
   "source": [
    "# Download caption annotation files\n",
    "# annotation_folder = '/annotations/'\n",
    "# if not os.path.exists(os.path.abspath('.') + annotation_folder):\n",
    "#   annotation_zip = tf.keras.utils.get_file('captions.zip',\n",
    "#                                           cache_subdir=os.path.abspath('.'),\n",
    "#                                           origin = 'http://images.cocodataset.org/annotations/annotations_trainval2014.zip',\n",
    "#                                           extract = True)\n",
    "#   annotation_file = os.path.dirname(annotation_zip)+'/annotations/captions_train2014.json'\n",
    "#   os.remove(annotation_zip)\n",
    "\n",
    "# Download image files\n",
    "image_folder = '/train2014/'\n",
    "if not os.path.exists(os.path.abspath('.') + image_folder):\n",
    "  image_zip = tf.keras.utils.get_file('train2014.zip',\n",
    "                                      cache_subdir=os.path.abspath('.'),\n",
    "                                      origin = 'http://images.cocodataset.org/zips/train2014.zip',\n",
    "                                      extract = True)\n",
    "  PATH = os.path.dirname(image_zip) + image_folder\n",
    "  os.remove(image_zip)\n",
    "else:\n",
    "  PATH = os.path.abspath('.') + image_folder"
   ]
  },
  {
   "cell_type": "code",
   "execution_count": 4,
   "metadata": {},
   "outputs": [],
   "source": [
    "# Download caption annotation files\n",
    "annotation_folder = '/annotations/'\n",
    "if not os.path.exists(os.path.abspath('.') + annotation_folder):\n",
    "  annotation_zip = tf.keras.utils.get_file('captions.zip',\n",
    "                                          cache_subdir=os.path.abspath('.'),\n",
    "                                          origin = 'http://images.cocodataset.org/annotations/annotations_trainval2014.zip',\n",
    "                                          extract = True)\n",
    "  annotation_file = os.path.dirname(annotation_zip)+'/annotations/captions_train2014.json'\n",
    "  os.remove(annotation_zip)\n",
    "\n",
    "# Download image files\n",
    "image_folder = '/train2014/'\n",
    "if not os.path.exists(os.path.abspath('.') + image_folder):\n",
    "  image_zip = tf.keras.utils.get_file('train2014.zip',\n",
    "                                      cache_subdir=os.path.abspath('.'),\n",
    "                                      origin = 'http://images.cocodataset.org/zips/train2014.zip',\n",
    "                                      extract = True)\n",
    "  PATH = os.path.dirname(image_zip) + image_folder\n",
    "  os.remove(image_zip)\n",
    "else:\n",
    "  PATH = os.path.abspath('.') + image_folder"
   ]
  },
  {
   "cell_type": "markdown",
   "metadata": {
    "colab_type": "text",
    "id": "aANEzb5WwSzg"
   },
   "source": [
    "## Optional: limit the size of the training set \n",
    "To speed up training for this tutorial, you'll use a subset of 30,000 captions and their corresponding images to train our model. Choosing to use more data would result in improved captioning quality."
   ]
  },
  {
   "cell_type": "code",
   "execution_count": 5,
   "metadata": {},
   "outputs": [],
   "source": [
    "annotation_file = os.path.dirname('C:/Users/Phoenix/GitHub/sycxpy/testingnotebooks/annotations')+'/annotations/captions_train2014.json'"
   ]
  },
  {
   "cell_type": "code",
   "execution_count": 6,
   "metadata": {
    "ExecuteTime": {
     "end_time": "2020-08-27T08:20:56.700978Z",
     "start_time": "2020-08-27T08:20:54.561442Z"
    },
    "colab": {},
    "colab_type": "code",
    "id": "4G3b8x8_RPFD"
   },
   "outputs": [],
   "source": [
    "# Read the json file\n",
    "with open(annotation_file, 'r') as f:\n",
    "    annotations = json.load(f)\n",
    "\n",
    "# Store captions and image names in vectors\n",
    "all_captions = []\n",
    "all_img_name_vector = []\n",
    "PATH = \".\" + image_folder\n",
    "\n",
    "for annot in annotations['annotations']:\n",
    "    caption = '<start> ' + annot['caption'] + ' <end>'\n",
    "    image_id = annot['image_id']\n",
    "    full_coco_image_path = PATH + 'COCO_train2014_' + '%012d.jpg' % (image_id)\n",
    "\n",
    "    all_img_name_vector.append(full_coco_image_path)\n",
    "    all_captions.append(caption)\n",
    "\n",
    "# Shuffle captions and image_names together\n",
    "# Set a random state\n",
    "train_captions, img_name_vector = shuffle(all_captions,\n",
    "                                          all_img_name_vector,\n",
    "                                          random_state=1)\n",
    "\n",
    "# Select the first 30000 captions from the shuffled set\n",
    "num_examples = 80000 #30 000 //change\n",
    "train_captions = train_captions[:num_examples]\n",
    "img_name_vector = img_name_vector[:num_examples]"
   ]
  },
  {
   "cell_type": "code",
   "execution_count": 7,
   "metadata": {
    "ExecuteTime": {
     "end_time": "2020-08-27T08:20:58.605122Z",
     "start_time": "2020-08-27T08:20:58.597637Z"
    },
    "colab": {},
    "colab_type": "code",
    "id": "mPBMgK34RPFL"
   },
   "outputs": [
    {
     "data": {
      "text/plain": [
       "(80000, 414113)"
      ]
     },
     "execution_count": 7,
     "metadata": {},
     "output_type": "execute_result"
    }
   ],
   "source": [
    "len(train_captions), len(all_captions)"
   ]
  },
  {
   "cell_type": "markdown",
   "metadata": {
    "colab_type": "text",
    "id": "8cSW4u-ORPFQ"
   },
   "source": [
    "## Preprocess the images using InceptionV3\n",
    "Next, you will use InceptionV3 (which is pretrained on Imagenet) to classify each image. You will extract features from the last convolutional layer.\n",
    "\n",
    "First, you will convert the images into InceptionV3's expected format by:\n",
    "* Resizing the image to 299px by 299px\n",
    "* [Preprocess the images](https://cloud.google.com/tpu/docs/inception-v3-advanced#preprocessing_stage) using the [preprocess_input](https://www.tensorflow.org/api_docs/python/tf/keras/applications/inception_v3/preprocess_input) method to normalize the image so that it contains pixels in the range of -1 to 1, which matches the format of the images used to train InceptionV3."
   ]
  },
  {
   "cell_type": "code",
   "execution_count": 8,
   "metadata": {
    "ExecuteTime": {
     "end_time": "2020-08-27T08:21:00.998990Z",
     "start_time": "2020-08-27T08:21:00.992967Z"
    },
    "colab": {},
    "colab_type": "code",
    "id": "zXR0217aRPFR"
   },
   "outputs": [],
   "source": [
    "def load_image(image_path):\n",
    "    img = tf.io.read_file(image_path)\n",
    "    img = tf.image.decode_jpeg(img, channels=3)\n",
    "    img = tf.image.resize(img, (299, 299))\n",
    "    img = tf.keras.applications.inception_v3.preprocess_input(img)\n",
    "    return img, image_path"
   ]
  },
  {
   "cell_type": "markdown",
   "metadata": {
    "colab_type": "text",
    "id": "MDvIu4sXRPFV"
   },
   "source": [
    "## Initialize InceptionV3 and load the pretrained Imagenet weights\n",
    "\n",
    "Now you'll create a tf.keras model where the output layer is the last convolutional layer in the InceptionV3 architecture. The shape of the output of this layer is ```8x8x2048```. You use the last convolutional layer because you are using attention in this example. You don't perform this initialization during training because it could become a bottleneck.\n",
    "\n",
    "* You forward each image through the network and store the resulting vector in a dictionary (image_name --> feature_vector).\n",
    "* After all the images are passed through the network, you pickle the dictionary and save it to disk.\n"
   ]
  },
  {
   "cell_type": "code",
   "execution_count": 9,
   "metadata": {
    "ExecuteTime": {
     "end_time": "2020-08-27T07:36:57.859838Z",
     "start_time": "2020-08-27T07:36:50.444390Z"
    },
    "colab": {},
    "colab_type": "code",
    "deletable": false,
    "editable": false,
    "id": "RD3vW4SsRPFW",
    "run_control": {
     "frozen": true
    }
   },
   "outputs": [],
   "source": [
    "image_model = tf.keras.applications.InceptionV3(include_top=False,\n",
    "                                                weights='imagenet')\n",
    "new_input = image_model.input\n",
    "hidden_layer = image_model.layers[-1].output\n",
    "\n",
    "image_features_extract_model = tf.keras.Model(new_input, hidden_layer)"
   ]
  },
  {
   "cell_type": "markdown",
   "metadata": {
    "colab_type": "text",
    "id": "rERqlR3WRPGO"
   },
   "source": [
    "## Caching the features extracted from InceptionV3\n",
    "\n",
    "You will pre-process each image with InceptionV3 and cache the output to disk. Caching the output in RAM would be faster but also memory intensive, requiring 8 \\* 8 \\* 2048 floats per image. At the time of writing, this exceeds the memory limitations of Colab (currently 12GB of memory).\n",
    "\n",
    "Performance could be improved with a more sophisticated caching strategy (for example, by sharding the images to reduce random access disk I/O), but that would require more code.\n",
    "\n",
    "The caching will take about 10 minutes to run in Colab with a GPU. If you'd like to see a progress bar, you can: \n",
    "\n",
    "1. install [tqdm](https://github.com/tqdm/tqdm):\n",
    "\n",
    "    `!pip install -q tqdm`\n",
    "\n",
    "2. Import tqdm:\n",
    "\n",
    "    `from tqdm import tqdm`\n",
    "\n",
    "3. Change the following line:\n",
    "\n",
    "    `for img, path in image_dataset:`\n",
    "\n",
    "    to:\n",
    "\n",
    "    `for img, path in tqdm(image_dataset):`\n"
   ]
  },
  {
   "cell_type": "code",
   "execution_count": 10,
   "metadata": {
    "ExecuteTime": {
     "end_time": "2020-08-27T08:25:03.254346Z",
     "start_time": "2020-08-27T08:24:58.190267Z"
    }
   },
   "outputs": [],
   "source": [
    "# !pip install -q tqdm\n",
    "from tqdm import tqdm"
   ]
  },
  {
   "cell_type": "code",
   "execution_count": 11,
   "metadata": {
    "ExecuteTime": {
     "end_time": "2020-08-27T08:33:34.858494Z",
     "start_time": "2020-08-27T08:25:05.047139Z"
    },
    "colab": {},
    "colab_type": "code",
    "id": "Dx_fvbVgRPGQ"
   },
   "outputs": [
    {
     "name": "stderr",
     "output_type": "stream",
     "text": [
      "100%|██████████████████████████████████████| 3398/3398 [09:05<00:00,  6.23it/s]\n"
     ]
    }
   ],
   "source": [
    "# Get unique images\n",
    "encode_train = sorted(set(img_name_vector))\n",
    "\n",
    "# Feel free to change batch_size according to your system configuration\n",
    "image_dataset = tf.data.Dataset.from_tensor_slices(encode_train)\n",
    "image_dataset = image_dataset.map(\n",
    "  load_image, num_parallel_calls=tf.data.experimental.AUTOTUNE).batch(16)\n",
    "\n",
    "for img, path in tqdm(image_dataset):\n",
    "  batch_features = image_features_extract_model(img)\n",
    "  batch_features = tf.reshape(batch_features,\n",
    "                              (batch_features.shape[0], -1, batch_features.shape[3]))\n",
    "\n",
    "  for bf, p in zip(batch_features, path):\n",
    "    path_of_feature = p.numpy().decode(\"utf-8\")\n",
    "    np.save(path_of_feature, bf.numpy())"
   ]
  },
  {
   "cell_type": "markdown",
   "metadata": {
    "colab_type": "text",
    "id": "nyqH3zFwRPFi"
   },
   "source": [
    "## Preprocess and tokenize the captions\n",
    "\n",
    "* First, you'll tokenize the captions (for example, by splitting on spaces). This gives us a  vocabulary of all of the unique words in the data (for example, \"surfing\", \"football\", and so on).\n",
    "* Next, you'll limit the vocabulary size to the top 5,000 words (to save memory). You'll replace all other words with the token \"UNK\" (unknown).\n",
    "* You then create word-to-index and index-to-word mappings.\n",
    "* Finally, you pad all sequences to be the same length as the longest one."
   ]
  },
  {
   "cell_type": "code",
   "execution_count": 12,
   "metadata": {
    "ExecuteTime": {
     "end_time": "2020-08-27T08:33:40.390440Z",
     "start_time": "2020-08-27T08:33:40.383848Z"
    },
    "colab": {},
    "colab_type": "code",
    "id": "HZfK8RhQRPFj"
   },
   "outputs": [],
   "source": [
    "# Find the maximum length of any caption in our dataset\n",
    "def calc_max_length(tensor):\n",
    "    return max(len(t) for t in tensor)"
   ]
  },
  {
   "cell_type": "code",
   "execution_count": 13,
   "metadata": {
    "ExecuteTime": {
     "end_time": "2020-08-27T08:33:42.684751Z",
     "start_time": "2020-08-27T08:33:42.574904Z"
    },
    "colab": {},
    "colab_type": "code",
    "id": "oJGE34aiRPFo"
   },
   "outputs": [],
   "source": [
    "# Choose the top 5000 words from the vocabulary\n",
    "top_k = 5000\n",
    "tokenizer = tf.keras.preprocessing.text.Tokenizer(num_words=top_k,\n",
    "                                                  oov_token=\"<unk>\",\n",
    "                                                  filters='!\"#$%&()*+.,-/:;=?@[\\]^_`{|}~ ')\n",
    "tokenizer.fit_on_texts(train_captions)\n",
    "train_seqs = tokenizer.texts_to_sequences(train_captions)"
   ]
  },
  {
   "cell_type": "code",
   "execution_count": 14,
   "metadata": {
    "ExecuteTime": {
     "end_time": "2020-08-27T08:33:43.974844Z",
     "start_time": "2020-08-27T08:33:43.969868Z"
    },
    "colab": {},
    "colab_type": "code",
    "id": "8Q44tNQVRPFt"
   },
   "outputs": [],
   "source": [
    "tokenizer.word_index['<pad>'] = 0\n",
    "tokenizer.index_word[0] = '<pad>'"
   ]
  },
  {
   "cell_type": "code",
   "execution_count": 15,
   "metadata": {
    "ExecuteTime": {
     "end_time": "2020-08-27T08:33:45.258230Z",
     "start_time": "2020-08-27T08:33:45.213530Z"
    },
    "colab": {},
    "colab_type": "code",
    "id": "0fpJb5ojRPFv"
   },
   "outputs": [],
   "source": [
    "# Create the tokenized vectors\n",
    "train_seqs = tokenizer.texts_to_sequences(train_captions)"
   ]
  },
  {
   "cell_type": "code",
   "execution_count": 16,
   "metadata": {
    "ExecuteTime": {
     "end_time": "2020-08-27T08:33:46.543842Z",
     "start_time": "2020-08-27T08:33:46.512808Z"
    },
    "colab": {},
    "colab_type": "code",
    "id": "AidglIZVRPF4"
   },
   "outputs": [],
   "source": [
    "# Pad each vector to the max_length of the captions\n",
    "# If you do not provide a max_length value, pad_sequences calculates it automatically\n",
    "cap_vector = tf.keras.preprocessing.sequence.pad_sequences(train_seqs, padding='post')"
   ]
  },
  {
   "cell_type": "code",
   "execution_count": 17,
   "metadata": {
    "ExecuteTime": {
     "end_time": "2020-08-27T08:33:47.765172Z",
     "start_time": "2020-08-27T08:33:47.753806Z"
    },
    "colab": {},
    "colab_type": "code",
    "id": "gL0wkttkRPGA"
   },
   "outputs": [],
   "source": [
    "# Calculates the max_length, which is used to store the attention weights\n",
    "max_length = calc_max_length(train_seqs)"
   ]
  },
  {
   "cell_type": "code",
   "execution_count": 18,
   "metadata": {},
   "outputs": [
    {
     "data": {
      "text/plain": [
       "49"
      ]
     },
     "execution_count": 18,
     "metadata": {},
     "output_type": "execute_result"
    }
   ],
   "source": [
    "max_length"
   ]
  },
  {
   "cell_type": "markdown",
   "metadata": {
    "colab_type": "text",
    "id": "M3CD75nDpvTI"
   },
   "source": [
    "## Split the data into training and testing"
   ]
  },
  {
   "cell_type": "code",
   "execution_count": 19,
   "metadata": {
    "ExecuteTime": {
     "end_time": "2020-08-27T08:33:54.281147Z",
     "start_time": "2020-08-27T08:33:54.265044Z"
    },
    "colab": {},
    "colab_type": "code",
    "id": "iS7DDMszRPGF"
   },
   "outputs": [],
   "source": [
    "# Create training and validation sets using an 80-20 split\n",
    "img_name_train, img_name_val, cap_train, cap_val = train_test_split(img_name_vector,\n",
    "                                                                    cap_vector,\n",
    "                                                                    test_size=0.2,\n",
    "                                                                    random_state=0)"
   ]
  },
  {
   "cell_type": "code",
   "execution_count": 20,
   "metadata": {
    "ExecuteTime": {
     "end_time": "2020-08-27T08:33:55.582005Z",
     "start_time": "2020-08-27T08:33:55.575665Z"
    },
    "colab": {},
    "colab_type": "code",
    "id": "XmViPkRFRPGH"
   },
   "outputs": [
    {
     "data": {
      "text/plain": [
       "(64000, 64000, 16000, 16000)"
      ]
     },
     "execution_count": 20,
     "metadata": {},
     "output_type": "execute_result"
    }
   ],
   "source": [
    "len(img_name_train), len(cap_train), len(img_name_val), len(cap_val)"
   ]
  },
  {
   "cell_type": "markdown",
   "metadata": {
    "colab_type": "text",
    "id": "uEWM9xrYcg45"
   },
   "source": [
    "## Create a tf.data dataset for training\n"
   ]
  },
  {
   "cell_type": "markdown",
   "metadata": {
    "colab_type": "text",
    "id": "horagNvhhZiy"
   },
   "source": [
    " Our images and captions are ready! Next, let's create a tf.data dataset to use for training our model."
   ]
  },
  {
   "cell_type": "code",
   "execution_count": 21,
   "metadata": {
    "ExecuteTime": {
     "end_time": "2020-08-27T08:34:02.304809Z",
     "start_time": "2020-08-27T08:34:02.294724Z"
    },
    "colab": {},
    "colab_type": "code",
    "id": "Q3TnZ1ToRPGV"
   },
   "outputs": [],
   "source": [
    "# Feel free to change these parameters according to your system's configuration //change\n",
    "\n",
    "BATCH_SIZE = 64  #64\n",
    "BUFFER_SIZE = 1000 #1000\n",
    "embedding_dim = 256 #256 (RNN)\n",
    "units = 512 #512(RNN nodes?)\n",
    "vocab_size = top_k + 1\n",
    "num_steps = len(img_name_train) // BATCH_SIZE\n",
    "# Shape of the vector extracted from InceptionV3 is (64, 2048)\n",
    "# These two variables represent that vector shape\n",
    "features_shape = 2048\n",
    "attention_features_shape = 64"
   ]
  },
  {
   "cell_type": "code",
   "execution_count": 22,
   "metadata": {
    "ExecuteTime": {
     "end_time": "2020-08-27T08:34:03.578334Z",
     "start_time": "2020-08-27T08:34:03.566703Z"
    },
    "colab": {},
    "colab_type": "code",
    "id": "SmZS2N0bXG3T"
   },
   "outputs": [],
   "source": [
    "# Load the numpy files\n",
    "def map_func(img_name, cap):\n",
    "  img_tensor = np.load(img_name.decode('utf-8')+'.npy')\n",
    "  return img_tensor, cap"
   ]
  },
  {
   "cell_type": "code",
   "execution_count": 23,
   "metadata": {
    "ExecuteTime": {
     "end_time": "2020-08-27T08:34:04.841847Z",
     "start_time": "2020-08-27T08:34:04.756003Z"
    },
    "colab": {},
    "colab_type": "code",
    "id": "FDF_Nm3tRPGZ"
   },
   "outputs": [],
   "source": [
    "dataset = tf.data.Dataset.from_tensor_slices((img_name_train, cap_train))\n",
    "\n",
    "# Use map to load the numpy files in parallel\n",
    "dataset = dataset.map(lambda item1, item2: tf.numpy_function(\n",
    "          map_func, [item1, item2], [tf.float32, tf.int32]),\n",
    "          num_parallel_calls=tf.data.experimental.AUTOTUNE)\n",
    "\n",
    "# Shuffle and batch\n",
    "dataset = dataset.shuffle(BUFFER_SIZE).batch(BATCH_SIZE)\n",
    "dataset = dataset.prefetch(buffer_size=tf.data.experimental.AUTOTUNE)"
   ]
  },
  {
   "cell_type": "markdown",
   "metadata": {
    "colab_type": "text",
    "id": "nrvoDphgRPGd"
   },
   "source": [
    "## Model\n",
    "\n",
    "Fun fact: the decoder below is identical to the one in the example for [Neural Machine Translation with Attention](../sequences/nmt_with_attention.ipynb).\n",
    "\n",
    "The model architecture is inspired by the [Show, Attend and Tell](https://arxiv.org/pdf/1502.03044.pdf) paper.\n",
    "\n",
    "* In this example, you extract the features from the lower convolutional layer of InceptionV3 giving us a vector of shape (8, 8, 2048).\n",
    "* You squash that to a shape of (64, 2048).\n",
    "* This vector is then passed through the CNN Encoder (which consists of a single Fully connected layer).\n",
    "* The RNN (here GRU) attends over the image to predict the next word."
   ]
  },
  {
   "cell_type": "code",
   "execution_count": 24,
   "metadata": {
    "ExecuteTime": {
     "end_time": "2020-08-27T08:34:17.396503Z",
     "start_time": "2020-08-27T08:34:17.384152Z"
    },
    "colab": {},
    "colab_type": "code",
    "id": "ja2LFTMSdeV3"
   },
   "outputs": [],
   "source": [
    "class BahdanauAttention(tf.keras.Model):\n",
    "  def __init__(self, units):\n",
    "    super(BahdanauAttention, self).__init__()\n",
    "    self.W1 = tf.keras.layers.Dense(units)\n",
    "    self.W2 = tf.keras.layers.Dense(units)\n",
    "    self.V = tf.keras.layers.Dense(1)\n",
    "\n",
    "  def call(self, features, hidden):\n",
    "    # features(CNN_encoder output) shape == (batch_size, 64, embedding_dim)\n",
    "\n",
    "    # hidden shape == (batch_size, hidden_size)\n",
    "    # hidden_with_time_axis shape == (batch_size, 1, hidden_size)\n",
    "    hidden_with_time_axis = tf.expand_dims(hidden, 1)\n",
    "\n",
    "    # score shape == (batch_size, 64, hidden_size)\n",
    "    score = tf.nn.tanh(self.W1(features) + self.W2(hidden_with_time_axis))\n",
    "\n",
    "    # attention_weights shape == (batch_size, 64, 1)\n",
    "    # you get 1 at the last axis because you are applying score to self.V\n",
    "    attention_weights = tf.nn.softmax(self.V(score), axis=1)\n",
    "\n",
    "    # context_vector shape after sum == (batch_size, hidden_size)\n",
    "    context_vector = attention_weights * features\n",
    "    context_vector = tf.reduce_sum(context_vector, axis=1)\n",
    "\n",
    "    return context_vector, attention_weights"
   ]
  },
  {
   "cell_type": "code",
   "execution_count": 25,
   "metadata": {
    "ExecuteTime": {
     "end_time": "2020-08-27T09:19:08.651768Z",
     "start_time": "2020-08-27T09:19:08.644394Z"
    },
    "colab": {},
    "colab_type": "code",
    "id": "AZ7R1RxHRPGf"
   },
   "outputs": [],
   "source": [
    "class CNN_Encoder(tf.keras.Model):\n",
    "    # Since you have already extracted the features and dumped it using pickle\n",
    "    # This encoder passes those features through a Fully connected layer\n",
    "    def __init__(self, embedding_dim):\n",
    "        super(CNN_Encoder, self).__init__()\n",
    "        # shape after fc == (batch_size, 64, embedding_dim)\n",
    "        self.fc = tf.keras.layers.Dense(embedding_dim)\n",
    "\n",
    "    def __call__(self, x):\n",
    "        x = self.fc(x)\n",
    "        x = tf.nn.relu(x)\n",
    "        return x"
   ]
  },
  {
   "cell_type": "code",
   "execution_count": 26,
   "metadata": {
    "ExecuteTime": {
     "end_time": "2020-08-27T09:19:00.881864Z",
     "start_time": "2020-08-27T09:19:00.834813Z"
    },
    "colab": {},
    "colab_type": "code",
    "id": "V9UbGQmERPGi"
   },
   "outputs": [],
   "source": [
    "class RNN_Decoder(tf.keras.Model):\n",
    "  def __init__(self, embedding_dim, units, vocab_size):\n",
    "    super(RNN_Decoder, self).__init__()\n",
    "    self.units = units\n",
    "\n",
    "    self.embedding = tf.keras.layers.Embedding(vocab_size, embedding_dim)\n",
    "    self.gru = tf.keras.layers.GRU(self.units,\n",
    "                                   return_sequences=True,\n",
    "                                   return_state=True,\n",
    "                                   recurrent_initializer='glorot_uniform')\n",
    "    self.fc1 = tf.keras.layers.Dense(self.units)\n",
    "    self.fc2 = tf.keras.layers.Dense(vocab_size)\n",
    "\n",
    "    self.attention = BahdanauAttention(self.units)\n",
    "\n",
    "  def __call__(self, x, features, hidden):\n",
    "    # defining attention as a separate model\n",
    "    context_vector, attention_weights = self.attention(features, hidden)\n",
    "\n",
    "    # x shape after passing through embedding == (batch_size, 1, embedding_dim)\n",
    "    x = self.embedding(x)\n",
    "\n",
    "    # x shape after concatenation == (batch_size, 1, embedding_dim + hidden_size)\n",
    "    x = tf.concat([tf.expand_dims(context_vector, 1), x], axis=-1)\n",
    "\n",
    "    # passing the concatenated vector to the GRU\n",
    "    output, state = self.gru(x)\n",
    "\n",
    "    # shape == (batch_size, max_length, hidden_size)\n",
    "    x = self.fc1(output)\n",
    "\n",
    "    # x shape == (batch_size * max_length, hidden_size)\n",
    "    x = tf.reshape(x, (-1, x.shape[2]))\n",
    "\n",
    "    # output shape == (batch_size * max_length, vocab)\n",
    "    x = self.fc2(x)\n",
    "\n",
    "    return x, state, attention_weights\n",
    "\n",
    "  def reset_state(self, batch_size):\n",
    "    return tf.zeros((batch_size, self.units))"
   ]
  },
  {
   "cell_type": "code",
   "execution_count": 27,
   "metadata": {
    "ExecuteTime": {
     "end_time": "2020-08-27T09:11:55.452794Z",
     "start_time": "2020-08-27T09:11:55.380159Z"
    },
    "colab": {},
    "colab_type": "code",
    "id": "Qs_Sr03wRPGk"
   },
   "outputs": [],
   "source": [
    "encoder = CNN_Encoder(embedding_dim)\n",
    "decoder = RNN_Decoder(embedding_dim, units, vocab_size)"
   ]
  },
  {
   "cell_type": "code",
   "execution_count": 28,
   "metadata": {
    "ExecuteTime": {
     "end_time": "2020-08-27T09:12:10.834080Z",
     "start_time": "2020-08-27T09:12:10.823165Z"
    },
    "colab": {},
    "colab_type": "code",
    "id": "-bYN7xA0RPGl"
   },
   "outputs": [],
   "source": [
    "optimizer = tf.keras.optimizers.Adam()\n",
    "loss_object = tf.keras.losses.SparseCategoricalCrossentropy(\n",
    "    from_logits=True, reduction='none')\n",
    "\n",
    "def loss_function(real, pred):\n",
    "  mask = tf.math.logical_not(tf.math.equal(real, 0))\n",
    "  loss_ = loss_object(real, pred)\n",
    "\n",
    "  mask = tf.cast(mask, dtype=loss_.dtype)\n",
    "  loss_ *= mask\n",
    "\n",
    "  return tf.reduce_mean(loss_)"
   ]
  },
  {
   "cell_type": "markdown",
   "metadata": {
    "colab_type": "text",
    "id": "6A3Ni64joyab"
   },
   "source": [
    "## Checkpoint"
   ]
  },
  {
   "cell_type": "code",
   "execution_count": 29,
   "metadata": {
    "ExecuteTime": {
     "end_time": "2020-08-27T09:12:12.258052Z",
     "start_time": "2020-08-27T09:12:12.101628Z"
    },
    "colab": {},
    "colab_type": "code",
    "id": "PpJAqPMWo0uE"
   },
   "outputs": [],
   "source": [
    "checkpoint_path = \"./checkpoints/train\"\n",
    "ckpt = tf.train.Checkpoint(encoder=encoder,\n",
    "                           decoder=decoder,\n",
    "                           optimizer = optimizer)\n",
    "ckpt_manager = tf.train.CheckpointManager(ckpt, checkpoint_path, max_to_keep=5)"
   ]
  },
  {
   "cell_type": "code",
   "execution_count": 30,
   "metadata": {
    "ExecuteTime": {
     "end_time": "2020-08-27T09:12:13.742355Z",
     "start_time": "2020-08-27T09:12:13.556580Z"
    },
    "colab": {},
    "colab_type": "code",
    "id": "fUkbqhc_uObw"
   },
   "outputs": [],
   "source": [
    "start_epoch = 0\n",
    "if ckpt_manager.latest_checkpoint:\n",
    "  start_epoch = int(ckpt_manager.latest_checkpoint.split('-')[-1])\n",
    "  # restoring the latest checkpoint in checkpoint_path\n",
    "  ckpt.restore(ckpt_manager.latest_checkpoint)"
   ]
  },
  {
   "cell_type": "markdown",
   "metadata": {
    "colab_type": "text",
    "id": "PHod7t72RPGn"
   },
   "source": [
    "## Training\n",
    "\n",
    "* You extract the features stored in the respective `.npy` files and then pass those features through the encoder.\n",
    "* The encoder output, hidden state(initialized to 0) and the decoder input (which is the start token) is passed to the decoder.\n",
    "* The decoder returns the predictions and the decoder hidden state.\n",
    "* The decoder hidden state is then passed back into the model and the predictions are used to calculate the loss.\n",
    "* Use teacher forcing to decide the next input to the decoder.\n",
    "* Teacher forcing is the technique where the target word is passed as the next input to the decoder.\n",
    "* The final step is to calculate the gradients and apply it to the optimizer and backpropagate.\n"
   ]
  },
  {
   "cell_type": "code",
   "execution_count": 31,
   "metadata": {
    "ExecuteTime": {
     "end_time": "2020-08-27T08:34:39.694056Z",
     "start_time": "2020-08-27T08:34:39.679205Z"
    },
    "colab": {},
    "colab_type": "code",
    "id": "Vt4WZ5mhJE-E"
   },
   "outputs": [],
   "source": [
    "# adding this in a separate cell because if you run the training cell\n",
    "# many times, the loss_plot array will be reset\n",
    "loss_plot = []"
   ]
  },
  {
   "cell_type": "code",
   "execution_count": 32,
   "metadata": {
    "ExecuteTime": {
     "end_time": "2020-08-27T08:34:41.503230Z",
     "start_time": "2020-08-27T08:34:41.493760Z"
    },
    "colab": {},
    "colab_type": "code",
    "id": "sqgyz2ANKlpU"
   },
   "outputs": [],
   "source": [
    "@tf.function\n",
    "def train_step(img_tensor, target):\n",
    "  loss = 0\n",
    "\n",
    "  # initializing the hidden state for each batch\n",
    "  # because the captions are not related from image to image\n",
    "  hidden = decoder.reset_state(batch_size=target.shape[0])\n",
    "\n",
    "  dec_input = tf.expand_dims([tokenizer.word_index['<start>']] * target.shape[0], 1)\n",
    "\n",
    "  with tf.GradientTape() as tape:\n",
    "      features = encoder(img_tensor)\n",
    "\n",
    "      for i in range(1, target.shape[1]):\n",
    "          # passing the features through the decoder\n",
    "          predictions, hidden, _ = decoder(dec_input, features, hidden)\n",
    "\n",
    "          loss += loss_function(target[:, i], predictions)\n",
    "\n",
    "          # using teacher forcing\n",
    "          dec_input = tf.expand_dims(target[:, i], 1)\n",
    "\n",
    "  total_loss = (loss / int(target.shape[1]))\n",
    "\n",
    "  trainable_variables = encoder.trainable_variables + decoder.trainable_variables\n",
    "\n",
    "  gradients = tape.gradient(loss, trainable_variables)\n",
    "\n",
    "  optimizer.apply_gradients(zip(gradients, trainable_variables))\n",
    "\n",
    "  return loss, total_loss"
   ]
  },
  {
   "cell_type": "code",
   "execution_count": 33,
   "metadata": {
    "ExecuteTime": {
     "end_time": "2020-08-27T08:46:35.542033Z",
     "start_time": "2020-08-27T08:34:44.403170Z"
    },
    "colab": {},
    "colab_type": "code",
    "id": "UlA4VIQpRPGo"
   },
   "outputs": [
    {
     "name": "stdout",
     "output_type": "stream",
     "text": [
      "Epoch 1 Batch 0 Loss 1.9232\n",
      "Epoch 1 Batch 100 Loss 1.1449\n",
      "Epoch 1 Batch 200 Loss 0.9541\n",
      "Epoch 1 Batch 300 Loss 0.9332\n",
      "Epoch 1 Batch 400 Loss 0.8422\n",
      "Epoch 1 Batch 500 Loss 0.8499\n",
      "Epoch 1 Batch 600 Loss 0.8291\n",
      "Epoch 1 Batch 700 Loss 0.8060\n",
      "Epoch 1 Batch 800 Loss 0.6771\n",
      "Epoch 1 Batch 900 Loss 0.8136\n",
      "Epoch 1 Loss 0.881921\n",
      "Time taken for 1 epoch 334.7751479148865 sec\n",
      "\n",
      "Epoch 2 Batch 0 Loss 0.7264\n",
      "Epoch 2 Batch 100 Loss 0.7903\n",
      "Epoch 2 Batch 200 Loss 0.6565\n",
      "Epoch 2 Batch 300 Loss 0.7823\n",
      "Epoch 2 Batch 400 Loss 0.7615\n",
      "Epoch 2 Batch 500 Loss 0.7472\n",
      "Epoch 2 Batch 600 Loss 0.7203\n",
      "Epoch 2 Batch 700 Loss 0.6984\n",
      "Epoch 2 Batch 800 Loss 0.6977\n",
      "Epoch 2 Batch 900 Loss 0.6785\n",
      "Epoch 2 Loss 0.705815\n",
      "Time taken for 1 epoch 289.3665509223938 sec\n",
      "\n",
      "Epoch 3 Batch 0 Loss 0.6406\n",
      "Epoch 3 Batch 100 Loss 0.6508\n",
      "Epoch 3 Batch 200 Loss 0.6837\n",
      "Epoch 3 Batch 300 Loss 0.6203\n",
      "Epoch 3 Batch 400 Loss 0.6320\n",
      "Epoch 3 Batch 500 Loss 0.6632\n",
      "Epoch 3 Batch 600 Loss 0.6103\n",
      "Epoch 3 Batch 700 Loss 0.6286\n",
      "Epoch 3 Batch 800 Loss 0.6975\n",
      "Epoch 3 Batch 900 Loss 0.6082\n",
      "Epoch 3 Loss 0.659484\n",
      "Time taken for 1 epoch 293.49678683280945 sec\n",
      "\n",
      "Epoch 4 Batch 0 Loss 0.6865\n",
      "Epoch 4 Batch 100 Loss 0.5928\n",
      "Epoch 4 Batch 200 Loss 0.6044\n",
      "Epoch 4 Batch 300 Loss 0.5881\n",
      "Epoch 4 Batch 400 Loss 0.5993\n",
      "Epoch 4 Batch 500 Loss 0.6670\n",
      "Epoch 4 Batch 600 Loss 0.7264\n",
      "Epoch 4 Batch 700 Loss 0.5678\n",
      "Epoch 4 Batch 800 Loss 0.6580\n",
      "Epoch 4 Batch 900 Loss 0.6288\n",
      "Epoch 4 Loss 0.628057\n",
      "Time taken for 1 epoch 296.80697655677795 sec\n",
      "\n",
      "Epoch 5 Batch 0 Loss 0.5942\n",
      "Epoch 5 Batch 100 Loss 0.6219\n",
      "Epoch 5 Batch 200 Loss 0.6396\n",
      "Epoch 5 Batch 300 Loss 0.5530\n",
      "Epoch 5 Batch 400 Loss 0.5988\n",
      "Epoch 5 Batch 500 Loss 0.6644\n",
      "Epoch 5 Batch 600 Loss 0.6242\n",
      "Epoch 5 Batch 700 Loss 0.5650\n",
      "Epoch 5 Batch 800 Loss 0.6524\n",
      "Epoch 5 Batch 900 Loss 0.6409\n",
      "Epoch 5 Loss 0.601955\n",
      "Time taken for 1 epoch 283.7042272090912 sec\n",
      "\n",
      "Epoch 6 Batch 0 Loss 0.5863\n",
      "Epoch 6 Batch 100 Loss 0.5405\n",
      "Epoch 6 Batch 200 Loss 0.6275\n",
      "Epoch 6 Batch 300 Loss 0.5371\n",
      "Epoch 6 Batch 400 Loss 0.5699\n",
      "Epoch 6 Batch 500 Loss 0.5801\n",
      "Epoch 6 Batch 600 Loss 0.6008\n",
      "Epoch 6 Batch 700 Loss 0.5430\n",
      "Epoch 6 Batch 800 Loss 0.5548\n",
      "Epoch 6 Batch 900 Loss 0.5731\n",
      "Epoch 6 Loss 0.578346\n",
      "Time taken for 1 epoch 282.92818212509155 sec\n",
      "\n",
      "Epoch 7 Batch 0 Loss 0.5822\n",
      "Epoch 7 Batch 100 Loss 0.5291\n",
      "Epoch 7 Batch 200 Loss 0.5535\n",
      "Epoch 7 Batch 300 Loss 0.5089\n",
      "Epoch 7 Batch 400 Loss 0.5802\n",
      "Epoch 7 Batch 500 Loss 0.5655\n",
      "Epoch 7 Batch 600 Loss 0.5300\n",
      "Epoch 7 Batch 700 Loss 0.5532\n",
      "Epoch 7 Batch 800 Loss 0.5205\n",
      "Epoch 7 Batch 900 Loss 0.5368\n",
      "Epoch 7 Loss 0.555947\n",
      "Time taken for 1 epoch 283.4982154369354 sec\n",
      "\n",
      "Epoch 8 Batch 0 Loss 0.5163\n",
      "Epoch 8 Batch 100 Loss 0.5431\n",
      "Epoch 8 Batch 200 Loss 0.5319\n",
      "Epoch 8 Batch 300 Loss 0.5166\n",
      "Epoch 8 Batch 400 Loss 0.5304\n",
      "Epoch 8 Batch 500 Loss 0.5179\n",
      "Epoch 8 Batch 600 Loss 0.5369\n",
      "Epoch 8 Batch 700 Loss 0.5301\n",
      "Epoch 8 Batch 800 Loss 0.5114\n",
      "Epoch 8 Batch 900 Loss 0.5376\n",
      "Epoch 8 Loss 0.534333\n",
      "Time taken for 1 epoch 282.4071526527405 sec\n",
      "\n",
      "Epoch 9 Batch 0 Loss 0.5331\n",
      "Epoch 9 Batch 100 Loss 0.5383\n",
      "Epoch 9 Batch 200 Loss 0.4444\n",
      "Epoch 9 Batch 300 Loss 0.5268\n",
      "Epoch 9 Batch 400 Loss 0.5179\n",
      "Epoch 9 Batch 500 Loss 0.5522\n",
      "Epoch 9 Batch 600 Loss 0.5283\n",
      "Epoch 9 Batch 700 Loss 0.4831\n",
      "Epoch 9 Batch 800 Loss 0.5299\n",
      "Epoch 9 Batch 900 Loss 0.4984\n",
      "Epoch 9 Loss 0.512873\n",
      "Time taken for 1 epoch 283.0871915817261 sec\n",
      "\n",
      "Epoch 10 Batch 0 Loss 0.4762\n",
      "Epoch 10 Batch 100 Loss 0.5082\n",
      "Epoch 10 Batch 200 Loss 0.4709\n",
      "Epoch 10 Batch 300 Loss 0.4886\n",
      "Epoch 10 Batch 400 Loss 0.5178\n",
      "Epoch 10 Batch 500 Loss 0.4772\n",
      "Epoch 10 Batch 600 Loss 0.4858\n",
      "Epoch 10 Batch 700 Loss 0.4622\n",
      "Epoch 10 Batch 800 Loss 0.5646\n",
      "Epoch 10 Batch 900 Loss 0.5101\n",
      "Epoch 10 Loss 0.492806\n",
      "Time taken for 1 epoch 297.5400183200836 sec\n",
      "\n",
      "Epoch 11 Batch 0 Loss 0.4763\n",
      "Epoch 11 Batch 100 Loss 0.4899\n",
      "Epoch 11 Batch 200 Loss 0.4954\n",
      "Epoch 11 Batch 300 Loss 0.4925\n",
      "Epoch 11 Batch 400 Loss 0.4384\n",
      "Epoch 11 Batch 500 Loss 0.4957\n",
      "Epoch 11 Batch 600 Loss 0.4394\n",
      "Epoch 11 Batch 700 Loss 0.4872\n",
      "Epoch 11 Batch 800 Loss 0.4572\n",
      "Epoch 11 Batch 900 Loss 0.5012\n",
      "Epoch 11 Loss 0.473242\n",
      "Time taken for 1 epoch 316.71611523628235 sec\n",
      "\n",
      "Epoch 12 Batch 0 Loss 0.4961\n",
      "Epoch 12 Batch 100 Loss 0.4485\n",
      "Epoch 12 Batch 200 Loss 0.4490\n",
      "Epoch 12 Batch 300 Loss 0.4386\n",
      "Epoch 12 Batch 400 Loss 0.4935\n",
      "Epoch 12 Batch 500 Loss 0.4614\n",
      "Epoch 12 Batch 600 Loss 0.4257\n",
      "Epoch 12 Batch 700 Loss 0.4305\n",
      "Epoch 12 Batch 800 Loss 0.4368\n",
      "Epoch 12 Batch 900 Loss 0.4578\n",
      "Epoch 12 Loss 0.455106\n",
      "Time taken for 1 epoch 283.76723051071167 sec\n",
      "\n",
      "Epoch 13 Batch 0 Loss 0.4346\n",
      "Epoch 13 Batch 100 Loss 0.4414\n",
      "Epoch 13 Batch 200 Loss 0.4344\n",
      "Epoch 13 Batch 300 Loss 0.4316\n",
      "Epoch 13 Batch 400 Loss 0.4216\n",
      "Epoch 13 Batch 500 Loss 0.4143\n",
      "Epoch 13 Batch 600 Loss 0.4557\n",
      "Epoch 13 Batch 700 Loss 0.4657\n",
      "Epoch 13 Batch 800 Loss 0.4204\n",
      "Epoch 13 Batch 900 Loss 0.4356\n",
      "Epoch 13 Loss 0.438235\n",
      "Time taken for 1 epoch 283.6182219982147 sec\n",
      "\n",
      "Epoch 14 Batch 0 Loss 0.4503\n",
      "Epoch 14 Batch 100 Loss 0.4276\n",
      "Epoch 14 Batch 200 Loss 0.4061\n",
      "Epoch 14 Batch 300 Loss 0.4077\n",
      "Epoch 14 Batch 400 Loss 0.4323\n",
      "Epoch 14 Batch 500 Loss 0.4218\n",
      "Epoch 14 Batch 600 Loss 0.3968\n",
      "Epoch 14 Batch 700 Loss 0.3925\n",
      "Epoch 14 Batch 800 Loss 0.4735\n",
      "Epoch 14 Batch 900 Loss 0.4544\n",
      "Epoch 14 Loss 0.421057\n",
      "Time taken for 1 epoch 283.56221890449524 sec\n",
      "\n",
      "Epoch 15 Batch 0 Loss 0.4657\n",
      "Epoch 15 Batch 100 Loss 0.4487\n",
      "Epoch 15 Batch 200 Loss 0.4001\n",
      "Epoch 15 Batch 300 Loss 0.3894\n",
      "Epoch 15 Batch 400 Loss 0.4451\n",
      "Epoch 15 Batch 500 Loss 0.3787\n",
      "Epoch 15 Batch 600 Loss 0.3887\n",
      "Epoch 15 Batch 700 Loss 0.4025\n",
      "Epoch 15 Batch 800 Loss 0.4048\n",
      "Epoch 15 Batch 900 Loss 0.4469\n",
      "Epoch 15 Loss 0.406501\n",
      "Time taken for 1 epoch 283.96924209594727 sec\n",
      "\n",
      "Epoch 16 Batch 0 Loss 0.4245\n",
      "Epoch 16 Batch 100 Loss 0.3924\n",
      "Epoch 16 Batch 200 Loss 0.3529\n",
      "Epoch 16 Batch 300 Loss 0.3781\n",
      "Epoch 16 Batch 400 Loss 0.3836\n",
      "Epoch 16 Batch 500 Loss 0.3809\n",
      "Epoch 16 Batch 600 Loss 0.4047\n",
      "Epoch 16 Batch 700 Loss 0.3957\n",
      "Epoch 16 Batch 800 Loss 0.4011\n",
      "Epoch 16 Batch 900 Loss 0.4180\n",
      "Epoch 16 Loss 0.392264\n",
      "Time taken for 1 epoch 285.9063527584076 sec\n",
      "\n",
      "Epoch 17 Batch 0 Loss 0.4333\n",
      "Epoch 17 Batch 100 Loss 0.4014\n",
      "Epoch 17 Batch 200 Loss 0.3671\n",
      "Epoch 17 Batch 300 Loss 0.4104\n",
      "Epoch 17 Batch 400 Loss 0.3751\n",
      "Epoch 17 Batch 500 Loss 0.3747\n",
      "Epoch 17 Batch 600 Loss 0.3418\n",
      "Epoch 17 Batch 700 Loss 0.4132\n",
      "Epoch 17 Batch 800 Loss 0.3788\n",
      "Epoch 17 Batch 900 Loss 0.3651\n",
      "Epoch 17 Loss 0.379597\n",
      "Time taken for 1 epoch 283.9932436943054 sec\n",
      "\n",
      "Epoch 18 Batch 0 Loss 0.4141\n",
      "Epoch 18 Batch 100 Loss 0.3828\n",
      "Epoch 18 Batch 200 Loss 0.3822\n",
      "Epoch 18 Batch 300 Loss 0.3430\n",
      "Epoch 18 Batch 400 Loss 0.3802\n",
      "Epoch 18 Batch 500 Loss 0.3807\n",
      "Epoch 18 Batch 600 Loss 0.3647\n",
      "Epoch 18 Batch 700 Loss 0.3546\n",
      "Epoch 18 Batch 800 Loss 0.3673\n",
      "Epoch 18 Batch 900 Loss 0.3334\n",
      "Epoch 18 Loss 0.367695\n",
      "Time taken for 1 epoch 283.095192193985 sec\n",
      "\n",
      "Epoch 19 Batch 0 Loss 0.3626\n",
      "Epoch 19 Batch 100 Loss 0.3528\n",
      "Epoch 19 Batch 200 Loss 0.3355\n",
      "Epoch 19 Batch 300 Loss 0.3583\n",
      "Epoch 19 Batch 400 Loss 0.3772\n",
      "Epoch 19 Batch 500 Loss 0.3654\n",
      "Epoch 19 Batch 600 Loss 0.3474\n",
      "Epoch 19 Batch 700 Loss 0.3535\n",
      "Epoch 19 Batch 800 Loss 0.3243\n",
      "Epoch 19 Batch 900 Loss 0.3370\n",
      "Epoch 19 Loss 0.356406\n",
      "Time taken for 1 epoch 284.2092559337616 sec\n",
      "\n",
      "Epoch 20 Batch 0 Loss 0.3242\n",
      "Epoch 20 Batch 100 Loss 0.3479\n",
      "Epoch 20 Batch 200 Loss 0.3316\n",
      "Epoch 20 Batch 300 Loss 0.3722\n",
      "Epoch 20 Batch 400 Loss 0.3277\n",
      "Epoch 20 Batch 500 Loss 0.3524\n",
      "Epoch 20 Batch 600 Loss 0.3383\n",
      "Epoch 20 Batch 700 Loss 0.3278\n",
      "Epoch 20 Batch 800 Loss 0.3435\n",
      "Epoch 20 Batch 900 Loss 0.3430\n",
      "Epoch 20 Loss 0.346171\n",
      "Time taken for 1 epoch 285.3273193836212 sec\n",
      "\n"
     ]
    }
   ],
   "source": [
    "EPOCHS = 20 #20 //change\n",
    "\n",
    "for epoch in range(start_epoch, EPOCHS):\n",
    "    start = time.time()\n",
    "    total_loss = 0\n",
    "\n",
    "    for (batch, (img_tensor, target)) in enumerate(dataset):\n",
    "        batch_loss, t_loss = train_step(img_tensor, target)\n",
    "        total_loss += t_loss\n",
    "\n",
    "        if batch % 100 == 0:\n",
    "            print ('Epoch {} Batch {} Loss {:.4f}'.format(\n",
    "              epoch + 1, batch, batch_loss.numpy() / int(target.shape[1])))\n",
    "    # storing the epoch end loss value to plot later\n",
    "    loss_plot.append(total_loss / num_steps)\n",
    "\n",
    "    if epoch % 5 == 0:\n",
    "      ckpt_manager.save()\n",
    "\n",
    "    print ('Epoch {} Loss {:.6f}'.format(epoch + 1,\n",
    "                                         total_loss/num_steps))\n",
    "    print ('Time taken for 1 epoch {} sec\\n'.format(time.time() - start))"
   ]
  },
  {
   "cell_type": "code",
   "execution_count": 34,
   "metadata": {
    "ExecuteTime": {
     "end_time": "2020-08-27T09:12:39.283788Z",
     "start_time": "2020-08-27T09:12:39.078433Z"
    },
    "colab": {},
    "colab_type": "code",
    "id": "1Wm83G-ZBPcC"
   },
   "outputs": [
    {
     "data": {
      "image/png": "[encoded data removed]",
      "text/plain": [
       "<Figure size 432x288 with 1 Axes>"
      ]
     },
     "metadata": {
      "needs_background": "light"
     },
     "output_type": "display_data"
    }
   ],
   "source": [
    "plt.plot(loss_plot)\n",
    "plt.xlabel('Epochs')\n",
    "plt.ylabel('Loss')\n",
    "plt.title('Loss Plot')\n",
    "plt.show()"
   ]
  },
  {
   "cell_type": "markdown",
   "metadata": {
    "colab_type": "text",
    "id": "xGvOcLQKghXN"
   },
   "source": [
    "## Caption!\n",
    "\n",
    "* The evaluate function is similar to the training loop, except you don't use teacher forcing here. The input to the decoder at each time step is its previous predictions along with the hidden state and the encoder output.\n",
    "* Stop predicting when the model predicts the end token.\n",
    "* And store the attention weights for every time step."
   ]
  },
  {
   "cell_type": "code",
   "execution_count": 35,
   "metadata": {
    "ExecuteTime": {
     "end_time": "2020-08-27T09:12:41.592945Z",
     "start_time": "2020-08-27T09:12:41.581717Z"
    },
    "colab": {},
    "colab_type": "code",
    "id": "RCWpDtyNRPGs"
   },
   "outputs": [],
   "source": [
    "def evaluate(image):\n",
    "    attention_plot = np.zeros((max_length, attention_features_shape))\n",
    "\n",
    "    hidden = decoder.reset_state(batch_size=1)\n",
    "\n",
    "    temp_input = tf.expand_dims(load_image(image)[0], 0)\n",
    "    img_tensor_val = image_features_extract_model(temp_input)\n",
    "    img_tensor_val = tf.reshape(img_tensor_val, (img_tensor_val.shape[0], -1, img_tensor_val.shape[3]))\n",
    "\n",
    "    features = encoder(img_tensor_val)\n",
    "\n",
    "    dec_input = tf.expand_dims([tokenizer.word_index['<start>']], 0)\n",
    "    result = []\n",
    "\n",
    "    for i in range(max_length):\n",
    "        predictions, hidden, attention_weights = decoder(dec_input, features, hidden)\n",
    "\n",
    "        attention_plot[i] = tf.reshape(attention_weights, (-1, )).numpy()\n",
    "\n",
    "        predicted_id = tf.random.categorical(predictions, 1)[0][0].numpy()\n",
    "        result.append(tokenizer.index_word[predicted_id])\n",
    "\n",
    "        if tokenizer.index_word[predicted_id] == '<end>':\n",
    "            return result, attention_plot\n",
    "\n",
    "        dec_input = tf.expand_dims([predicted_id], 0)\n",
    "\n",
    "    attention_plot = attention_plot[:len(result), :]\n",
    "    return result, attention_plot"
   ]
  },
  {
   "cell_type": "code",
   "execution_count": 36,
   "metadata": {
    "ExecuteTime": {
     "end_time": "2020-08-27T09:17:37.095136Z",
     "start_time": "2020-08-27T09:17:37.087820Z"
    },
    "colab": {},
    "colab_type": "code",
    "id": "fD_y7PD6RPGt"
   },
   "outputs": [],
   "source": [
    "def plot_attention(image, result, attention_plot):\n",
    "    temp_image = np.array(Image.open(image))\n",
    "\n",
    "    fig = plt.figure(figsize=(10, 10))\n",
    "\n",
    "    len_result = len(result)\n",
    "    for l in range(len_result):\n",
    "        temp_att = np.resize(attention_plot[l], (8, 8))\n",
    "        ax = fig.add_subplot(len_result//2, len_result//2, l+1)\n",
    "        ax.set_title(result[l])\n",
    "        img = ax.imshow(temp_image)\n",
    "        ax.imshow(temp_att, cmap='gray', alpha=0.6, extent=img.get_extent())\n",
    "\n",
    "    plt.tight_layout()\n",
    "    plt.show()"
   ]
  },
  {
   "cell_type": "code",
   "execution_count": 43,
   "metadata": {
    "ExecuteTime": {
     "end_time": "2020-08-27T09:17:41.806012Z",
     "start_time": "2020-08-27T09:17:38.755140Z"
    },
    "colab": {},
    "colab_type": "code",
    "id": "7x8RiPHe_4qI"
   },
   "outputs": [
    {
     "name": "stdout",
     "output_type": "stream",
     "text": [
      "Real Caption: <start> an air force jet from an aerial view point <end>\n",
      "Prediction Caption: a private jet airplane flying near the air over a plane <end>\n"
     ]
    },
    {
     "data": {
      "image/png": "[encoded data removed]",
      "text/plain": [
       "<Figure size 720x720 with 12 Axes>"
      ]
     },
     "metadata": {
      "needs_background": "light"
     },
     "output_type": "display_data"
    }
   ],
   "source": [
    "# captions on the validation set\n",
    "rid = np.random.randint(0, len(img_name_val))\n",
    "image = img_name_val[rid]\n",
    "real_caption = ' '.join([tokenizer.index_word[i] for i in cap_val[rid] if i not in [0]])\n",
    "result, attention_plot = evaluate(image)\n",
    "\n",
    "print ('Real Caption:', real_caption)\n",
    "print ('Prediction Caption:', ' '.join(result))\n",
    "plot_attention(image, result, attention_plot)\n"
   ]
  },
  {
   "cell_type": "markdown",
   "metadata": {
    "colab_type": "text",
    "id": "Rprk3HEvZuxb"
   },
   "source": [
    "## Try it on your own images\n",
    "For fun, below we've provided a method you can use to caption your own images with the model we've just trained. Keep in mind, it was trained on a relatively small amount of data, and your images may be different from the training data (so be prepared for weird results!)\n"
   ]
  },
  {
   "cell_type": "code",
   "execution_count": null,
   "metadata": {
    "ExecuteTime": {
     "end_time": "2020-08-27T08:53:06.369791Z",
     "start_time": "2020-08-27T08:53:05.744925Z"
    },
    "colab": {},
    "colab_type": "code",
    "id": "9Psd1quzaAWg"
   },
   "outputs": [],
   "source": [
    "image_url = 'https://tensorflow.org/images/surf.jpg'\n",
    "image_extension = image_url[-4:]\n",
    "image_path = tf.keras.utils.get_file('image'+image_extension,\n",
    "                                     origin=image_url)\n",
    "\n",
    "image_path = \"MLfail.jpg\"\n",
    "\n",
    "result, attention_plot = evaluate(image_path)\n",
    "print ('Prediction Caption:', ' '.join(result))\n",
    "#plot_attention(image_path, result, attention_plot)\n",
    "# opening the image\n",
    "Image.open(image_path)"
   ]
  },
  {
   "cell_type": "code",
   "execution_count": 49,
   "metadata": {},
   "outputs": [],
   "source": [
    "import pickle\n",
    "\n",
    "with open('tokenizer.pickle', 'wb') as handle:\n",
    "    pickle.dump(tokenizer, handle, protocol=pickle.HIGHEST_PROTOCOL)"
   ]
  },
  {
   "cell_type": "code",
   "execution_count": 50,
   "metadata": {},
   "outputs": [],
   "source": [
    "with open('tokenizer.pickle', 'rb') as handle:\n",
    "    tokenizerfile = pickle.load(handle)"
   ]
  },
  {
   "cell_type": "code",
   "execution_count": 61,
   "metadata": {},
   "outputs": [
    {
     "data": {
      "text/plain": [
       "True"
      ]
     },
     "execution_count": 61,
     "metadata": {},
     "output_type": "execute_result"
    }
   ],
   "source": [
    "tokenizer.word_index == tokenizerfile.word_index"
   ]
  },
  {
   "cell_type": "code",
   "execution_count": 74,
   "metadata": {},
   "outputs": [
    {
     "data": {
      "text/plain": [
       "__main__.CNN_Encoder"
      ]
     },
     "execution_count": 74,
     "metadata": {},
     "output_type": "execute_result"
    }
   ],
   "source": [
    "type(encoder)"
   ]
  },
  {
   "cell_type": "code",
   "execution_count": null,
   "metadata": {},
   "outputs": [],
   "source": [
    "# encoder.save('ddd')\n",
    "# encoder.build((64,2048))\n",
    "# class CNN_Encoder(tf.keras.Model):\n",
    "#     # Since you have already extracted the features and dumped it using pickle\n",
    "#     # This encoder passes those features through a Fully connected layer\n",
    "#     def __init__(self, embedding_dim):\n",
    "#         super(CNN_Encoder, self).__init__()\n",
    "#         # shape after fc == (batch_size, 64, embedding_dim)\n",
    "#         self.fc = tf.keras.layers.Dense(embedding_dim)\n",
    "\n",
    "#     def __call__(self, x):\n",
    "#         x = self.fc(x)\n",
    "#         x = tf.nn.relu(x)\n",
    "#         return x\n",
    "encoder.to_json()"
   ]
  },
  {
   "cell_type": "code",
   "execution_count": null,
   "metadata": {},
   "outputs": [],
   "source": [
    "#https://stackoverflow.com/questions/51806852/cant-save-custom-subclassed-model //change\n",
    "#https://stackoverflow.com/questions/58629713/save-and-load-keras-subclassed-models //change\n",
    "    \n",
    "#Save model weights but doesnt save architecture/config\n",
    "encoder.save_weights(\"encoder_weights.h5\")\n",
    "decoder.save_weights(\"decoder_weights.h5\")\n",
    "\n",
    "#save model architecture\n",
    "# save as JSON\n",
    "# encoder_json = encoder.to_json()\n",
    "# decoder_json = decoder.to_json()\n",
    "\n",
    "# save as YAML\n",
    "encoder_yaml = encoder.to_yaml()\n",
    "decoder_yaml = decoder.to_yaml()"
   ]
  },
  {
   "cell_type": "code",
   "execution_count": null,
   "metadata": {},
   "outputs": [],
   "source": [
    "encoder.save('testmodel')"
   ]
  },
  {
   "cell_type": "markdown",
   "metadata": {},
   "source": [
    "#### Whole-model saving & loading\n",
    "https://www.tensorflow.org/guide/keras/save_and_serialize#part_ii_saving_and_loading_of_subclassed_models\n",
    "\n",
    "You can save an entire model to a single artifact. It will include:\n",
    "\n",
    "The model's architecture/config\n",
    "The model's weight values (which were learned during training)\n",
    "The model's compilation information (if compile()) was called\n",
    "The optimizer and its state, if any (this enables you to restart training where you left)\n",
    "\n",
    "API:\n",
    "model.save() or tf.keras.models.save_model()\n",
    "tf.keras.models.load_model()\n",
    "\n",
    "Saved models can be used to reconstruct the model identically.\n",
    "reconstructed_model = keras.models.load_model(\"my_model\")"
   ]
  },
  {
   "cell_type": "code",
   "execution_count": null,
   "metadata": {
    "ExecuteTime": {
     "end_time": "2020-08-27T09:31:14.270267Z",
     "start_time": "2020-08-27T09:31:14.218905Z"
    }
   },
   "outputs": [],
   "source": [
    "#save encoder as tf file\n",
    "encoder.build((64,2048))\n",
    "encoder.save(\"encoder\")\n"
   ]
  },
  {
   "cell_type": "code",
   "execution_count": null,
   "metadata": {
    "ExecuteTime": {
     "end_time": "2020-08-27T14:41:09.529278Z",
     "start_time": "2020-08-27T14:41:08.993145Z"
    }
   },
   "outputs": [],
   "source": [
    "#save decoder as tf file\n",
    "#decoder.build doesnt work, need to call instead? \n",
    "decoder.build((32, 64, 256))\n",
    "decoder.save(\"decoder\")"
   ]
  },
  {
   "cell_type": "markdown",
   "metadata": {
    "colab_type": "text",
    "id": "VJZXyJco6uLO"
   },
   "source": [
    "# Next steps\n",
    "\n",
    "Congrats! You've just trained an image captioning model with attention. Next, take a look at this example [Neural Machine Translation with Attention](../sequences/nmt_with_attention.ipynb). It uses a similar architecture to translate between Spanish and English sentences. You can also experiment with training the code in this notebook on a different dataset."
   ]
  }
 ],
 "metadata": {
  "accelerator": "GPU",
  "colab": {
   "collapsed_sections": [],
   "name": "image_captioning.ipynb",
   "private_outputs": true,
   "provenance": [],
   "toc_visible": true
  },
  "kernelspec": {
   "display_name": "venv",
   "language": "python",
   "name": "python3"
  },
  "language_info": {
   "codemirror_mode": {
    "name": "ipython",
    "version": 3
   },
   "file_extension": ".py",
   "mimetype": "text/x-python",
   "name": "python",
   "nbconvert_exporter": "python",
   "pygments_lexer": "ipython3",
   "version": "3.10.11"
  },
  "toc": {
   "base_numbering": 1,
   "nav_menu": {},
   "number_sections": false,
   "sideBar": true,
   "skip_h1_title": false,
   "title_cell": "Table of Contents",
   "title_sidebar": "Contents",
   "toc_cell": false,
   "toc_position": {},
   "toc_section_display": true,
   "toc_window_display": false
  },
  "varInspector": {
   "cols": {
    "lenName": 16,
    "lenType": 16,
    "lenVar": 40
   },
   "kernels_config": {
    "python": {
     "delete_cmd_postfix": "",
     "delete_cmd_prefix": "del ",
     "library": "var_list.py",
     "varRefreshCmd": "print(var_dic_list())"
    },
    "r": {
     "delete_cmd_postfix": ") ",
     "delete_cmd_prefix": "rm(",
     "library": "var_list.r",
     "varRefreshCmd": "cat(var_dic_list()) "
    }
   },
   "types_to_exclude": [
    "module",
    "function",
    "builtin_function_or_method",
    "instance",
    "_Feature"
   ],
   "window_display": false
  }
 },
 "nbformat": 4,
 "nbformat_minor": 4
}
